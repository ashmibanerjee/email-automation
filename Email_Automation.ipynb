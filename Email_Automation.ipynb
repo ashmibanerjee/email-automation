{
  "nbformat": 4,
  "nbformat_minor": 0,
  "metadata": {
    "colab": {
      "provenance": [],
      "authorship_tag": "ABX9TyPpm22OWgCejZHxaGNLLMIT",
      "include_colab_link": true
    },
    "kernelspec": {
      "name": "python3",
      "display_name": "Python 3"
    },
    "language_info": {
      "name": "python"
    }
  },
  "cells": [
    {
      "cell_type": "markdown",
      "metadata": {
        "id": "view-in-github",
        "colab_type": "text"
      },
      "source": [
        "<a href=\"https://colab.research.google.com/github/ashmibanerjee/email-automation/blob/main/Email_Automation.ipynb\" target=\"_parent\"><img src=\"https://colab.research.google.com/assets/colab-badge.svg\" alt=\"Open In Colab\"/></a>"
      ]
    },
    {
      "cell_type": "markdown",
      "source": [
        "### Step 0: Imports and Utilities"
      ],
      "metadata": {
        "id": "OVjAjBwMUq7f"
      }
    },
    {
      "cell_type": "code",
      "execution_count": 1,
      "metadata": {
        "id": "0bqN0vEyQZBI"
      },
      "outputs": [],
      "source": [
        "import smtplib\n",
        "from email import encoders\n",
        "from email.mime.base import MIMEBase\n",
        "from email.mime.multipart import MIMEMultipart\n",
        "from email.mime.text import MIMEText\n",
        "\n",
        "import configparser\n",
        "from datetime import datetime\n",
        "\n",
        "import re\n",
        "import os"
      ]
    },
    {
      "cell_type": "code",
      "source": [
        "from os.path import join\n",
        "from google.colab import drive\n",
        "\n",
        "ROOT = \"/content/drive/\"\n",
        "drive.mount(ROOT)"
      ],
      "metadata": {
        "colab": {
          "base_uri": "https://localhost:8080/"
        },
        "id": "qtEu5ktVfLNG",
        "outputId": "ce00c583-58f8-4b38-ad2f-82e238aa3496"
      },
      "execution_count": 2,
      "outputs": [
        {
          "output_type": "stream",
          "name": "stdout",
          "text": [
            "Drive already mounted at /content/drive/; to attempt to forcibly remount, call drive.mount(\"/content/drive/\", force_remount=True).\n"
          ]
        }
      ]
    },
    {
      "cell_type": "code",
      "source": [
        "%cd drive/My\\ Drive/personal/Events\\ \\&\\ Presentations/PyconPortugal22/email-automation/"
      ],
      "metadata": {
        "colab": {
          "base_uri": "https://localhost:8080/"
        },
        "id": "-e_TQ3iJfRRr",
        "outputId": "bcf4db12-180c-4f9b-e2df-a25d86ab8c24"
      },
      "execution_count": 3,
      "outputs": [
        {
          "output_type": "stream",
          "name": "stdout",
          "text": [
            "/content/drive/My Drive/personal/Events & Presentations/PyconPortugal22/email-automation\n"
          ]
        }
      ]
    },
    {
      "cell_type": "code",
      "source": [
        "regex = re.compile(r\"([-!#-'*+/-9=?A-Z^-~]+(\\.[-!#-'*+/-9=?A-Z^-~]+)*|\\\"([]!#-[^-~ \\t]|(\\\\[\\t -~]))+\\\")@([-!#-'*+/-9=?A-Z^-~]+(\\.[-!#-'*+/-9=?A-Z^-~]+)*|\\[[\\t -Z^-~]*])\")\n",
        "\n",
        "def isValid(email):\n",
        "    if re.fullmatch(regex, email):\n",
        "        print(\"Valid email\")\n",
        "        return True\n",
        "    print(\"Invalid email\")\n",
        "    return False"
      ],
      "metadata": {
        "id": "GJvdLnmAUp2X"
      },
      "execution_count": 4,
      "outputs": []
    },
    {
      "cell_type": "markdown",
      "source": [
        "### Step 1: Getting Sender Info from Config File"
      ],
      "metadata": {
        "id": "xmyJMubnRtau"
      }
    },
    {
      "cell_type": "code",
      "source": [
        "config = configparser.ConfigParser()\n",
        "config.read(\"settings.ini\")"
      ],
      "metadata": {
        "colab": {
          "base_uri": "https://localhost:8080/"
        },
        "id": "Saw30295ROry",
        "outputId": "7d4f32d9-5932-4dbd-8ec7-a7346c65bd8e"
      },
      "execution_count": 9,
      "outputs": [
        {
          "output_type": "execute_result",
          "data": {
            "text/plain": [
              "['settings.ini']"
            ]
          },
          "metadata": {},
          "execution_count": 9
        }
      ]
    },
    {
      "cell_type": "code",
      "source": [
        "sender_email = config[\"SenderAccountInfo\"][\"EMAIL\"]\n",
        "sender_name = config[\"SenderAccountInfo\"][\"NAME\"]\n",
        "cc = config[\"SenderAccountInfo\"][\"CC\"]\n",
        "app_password = config[\"SenderAccountInfo\"][\"APP_PASSWORD\"]"
      ],
      "metadata": {
        "id": "rVTVWiXKRfL7"
      },
      "execution_count": 10,
      "outputs": []
    },
    {
      "cell_type": "markdown",
      "source": [
        "### Step 2: Get email Subject"
      ],
      "metadata": {
        "id": "uQMlrO9WR36l"
      }
    },
    {
      "cell_type": "code",
      "source": [
        "def get_mail_subject():\n",
        "    return \"Testing Automated Emails\""
      ],
      "metadata": {
        "id": "DrQpXET2Rl_i"
      },
      "execution_count": 11,
      "outputs": []
    },
    {
      "cell_type": "markdown",
      "source": [
        "### Step 3: Get email Body"
      ],
      "metadata": {
        "id": "BZJigew8R9g6"
      }
    },
    {
      "cell_type": "code",
      "source": [
        "def get_mail_body(receiver_first_name: str, sender_name: str):\n",
        "    msg_body = f\"Dear {receiver_first_name}, \\nThis email was automatically sent using Python. \\n\" \\\n",
        "               f\"Hope you like it. \\n Cheers, \\n {sender_name}  \"\n",
        "    return msg_body"
      ],
      "metadata": {
        "id": "KUkBHb8FR8Pg"
      },
      "execution_count": 12,
      "outputs": []
    },
    {
      "cell_type": "markdown",
      "source": [
        "### Step 4: Get email Attachment"
      ],
      "metadata": {
        "id": "1YjhxBrvSCkZ"
      }
    },
    {
      "cell_type": "code",
      "source": [
        "def get_email_attachment(file_name: str = \"test_image.png\"):\n",
        "    file_path = os.getcwd() + \"/assets/\"\n",
        "    attachment_file = file_path + file_name\n",
        "    return attachment_file"
      ],
      "metadata": {
        "id": "36hBzchoSBoA"
      },
      "execution_count": 22,
      "outputs": []
    },
    {
      "cell_type": "markdown",
      "source": [
        "### Step 5: Get Recipient Info"
      ],
      "metadata": {
        "id": "ccifU7H_Sqnt"
      }
    },
    {
      "cell_type": "code",
      "source": [
        "receiver_name = input(\"Enter recipient full name (First name Last Name): \")\n",
        "\n",
        "try:\n",
        "    receiver_first_name, receiver_last_name = receiver_name.split(\" \")\n",
        "except ValueError:\n",
        "    receiver_first_name, receiver_last_name = receiver_name, \"\"\n",
        "\n",
        "while True:\n",
        "    receiver_email = input(\"Enter recipient Email: \")\n",
        "    if isValid(receiver_email):\n",
        "        break\n",
        "\n",
        "print(f\"\\n Recipient Infos: \\n\\tFirst Name: {receiver_first_name} \\n\\tLast Name: {receiver_last_name} \\n\\tEmail: {receiver_email}\")"
      ],
      "metadata": {
        "colab": {
          "base_uri": "https://localhost:8080/"
        },
        "id": "U-vCKGHNStqi",
        "outputId": "1212e625-ba5d-403b-9b41-c6b0b97fbe0c"
      },
      "execution_count": 14,
      "outputs": [
        {
          "output_type": "stream",
          "name": "stdout",
          "text": [
            "Enter recipient full name (First name Last Name): dghjh\n",
            "Enter recipient Email: ashmi.banerjee@tum.de\n",
            "Valid email\n",
            "\n",
            " Recipient Infos: \n",
            "\tFirst Name: dghjh \n",
            "\tLast Name:  \n",
            "\tEmail: ashmi.banerjee@tum.de\n"
          ]
        }
      ]
    },
    {
      "cell_type": "markdown",
      "source": [
        "### Step 6: Prepare Email"
      ],
      "metadata": {
        "id": "eNUUj-JrSTEd"
      }
    },
    {
      "cell_type": "code",
      "source": [
        "email = MIMEMultipart()\n",
        "email[\"From\"] = sender_email\n",
        "email[\"To\"] = receiver_email\n",
        "email[\"Subject\"] = get_mail_subject()\n",
        "# email[\"Cc\"] = cc\n",
        "email_body = get_mail_body(receiver_first_name, sender_name)"
      ],
      "metadata": {
        "id": "K4U8YhZzSMar"
      },
      "execution_count": 15,
      "outputs": []
    },
    {
      "cell_type": "code",
      "source": [
        "# Add body and attachment to email\n",
        "email.attach(MIMEText(email_body, \"html\"))"
      ],
      "metadata": {
        "id": "w9nzHGwnWr5i"
      },
      "execution_count": 16,
      "outputs": []
    },
    {
      "cell_type": "code",
      "source": [
        "# Add email attachment\n",
        "attachment_file_name = \"test_image.png\"\n",
        "attachment = open(get_email_attachment(), \"rb\")"
      ],
      "metadata": {
        "colab": {
          "base_uri": "https://localhost:8080/"
        },
        "id": "4UEtfpqdWxEJ",
        "outputId": "0640b388-3cb2-4635-d822-85cb56601ff1"
      },
      "execution_count": 23,
      "outputs": [
        {
          "output_type": "stream",
          "name": "stdout",
          "text": [
            "/content/drive/MyDrive/personal/Events & Presentations/PyconPortugal22/email-automation\n"
          ]
        }
      ]
    },
    {
      "cell_type": "code",
      "source": [
        "# instance of MIMEBase and named as p\n",
        "p = MIMEBase('application', 'octet-stream')\n",
        "\n",
        " # To change the payload into encoded form\n",
        "p.set_payload(attachment.read())\n",
        "\n",
        "# encode into base64\n",
        "encoders.encode_base64(p)\n",
        "\n",
        "p.add_header('Content-Disposition', \"attachment; filename= %s\" % attachment_file_name)\n",
        "\n",
        "# attach the instance 'p' to instance 'msg'\n",
        "email.attach(p)\n",
        "\n",
        "email = email.as_string()"
      ],
      "metadata": {
        "id": "LJJ008dXW56V"
      },
      "execution_count": 24,
      "outputs": []
    },
    {
      "cell_type": "markdown",
      "source": [
        "### Step 7: Send Email "
      ],
      "metadata": {
        "id": "QRuI08T3XP0t"
      }
    },
    {
      "cell_type": "code",
      "source": [
        "# Create SMTP session for sending the mail\n",
        "# use gmail with port\n",
        "session = smtplib.SMTP('smtp.gmail.com', 587)\n",
        "\n",
        "# enable security\n",
        "session.starttls()\n",
        "\n",
        "# login with mail_id and password\n",
        "session.login(sender_email, app_password)\n",
        "\n",
        "# send email\n",
        "session.sendmail(sender_email, receiver_email, email)\n",
        "\n",
        "# quit session\n",
        "session.quit()"
      ],
      "metadata": {
        "colab": {
          "base_uri": "https://localhost:8080/"
        },
        "id": "uo-K2fcXXOIJ",
        "outputId": "0b539c18-75ce-4a55-d7b9-2cbf8c8da561"
      },
      "execution_count": 26,
      "outputs": [
        {
          "output_type": "stream",
          "name": "stdout",
          "text": [
            "Mail Sent to dghjh at ashmi.banerjee@tum.de at 2022-09-02 09:25:53.271420\n"
          ]
        }
      ]
    },
    {
      "cell_type": "markdown",
      "source": [
        "### Step 8: Celebrate !! 🎊"
      ],
      "metadata": {
        "id": "ycpPEJ8Yh_XE"
      }
    },
    {
      "cell_type": "code",
      "source": [
        "print(f\"Mail Sent to {receiver_name} at {receiver_email} at {datetime.now()}\")"
      ],
      "metadata": {
        "colab": {
          "base_uri": "https://localhost:8080/"
        },
        "id": "6A3nd_m6iZ2B",
        "outputId": "c483cb70-6cdb-4f70-abea-834f94e08f76"
      },
      "execution_count": 27,
      "outputs": [
        {
          "output_type": "stream",
          "name": "stdout",
          "text": [
            "Mail Sent to dghjh at ashmi.banerjee@tum.de at 2022-09-02 09:31:09.430216\n"
          ]
        }
      ]
    },
    {
      "cell_type": "code",
      "source": [],
      "metadata": {
        "id": "n4Kk5FvmijKm"
      },
      "execution_count": null,
      "outputs": []
    }
  ]
}
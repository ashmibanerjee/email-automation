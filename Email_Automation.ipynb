{
  "nbformat": 4,
  "nbformat_minor": 0,
  "metadata": {
    "colab": {
      "provenance": [],
      "authorship_tag": "ABX9TyP7kKy88hJnsexTMOqO0ghD",
      "include_colab_link": true
    },
    "kernelspec": {
      "name": "python3",
      "display_name": "Python 3"
    },
    "language_info": {
      "name": "python"
    }
  },
  "cells": [
    {
      "cell_type": "markdown",
      "metadata": {
        "id": "view-in-github",
        "colab_type": "text"
      },
      "source": [
        "<a href=\"https://colab.research.google.com/github/ashmibanerjee/email-automation/blob/main/Email_Automation.ipynb\" target=\"_parent\"><img src=\"https://colab.research.google.com/assets/colab-badge.svg\" alt=\"Open In Colab\"/></a>"
      ]
    },
    {
      "cell_type": "markdown",
      "source": [
        "### Step 0: Imports and Utilities"
      ],
      "metadata": {
        "id": "OVjAjBwMUq7f"
      }
    },
    {
      "cell_type": "code",
      "execution_count": 15,
      "metadata": {
        "id": "0bqN0vEyQZBI"
      },
      "outputs": [],
      "source": [
        "import smtplib\n",
        "from email import encoders\n",
        "from email.mime.base import MIMEBase\n",
        "from email.mime.multipart import MIMEMultipart\n",
        "from email.mime.text import MIMEText\n",
        "\n",
        "import configparser\n",
        "from datetime import datetime\n",
        "import re"
      ]
    },
    {
      "cell_type": "code",
      "source": [
        "regex = re.compile(r\"([-!#-'*+/-9=?A-Z^-~]+(\\.[-!#-'*+/-9=?A-Z^-~]+)*|\\\"([]!#-[^-~ \\t]|(\\\\[\\t -~]))+\\\")@([-!#-'*+/-9=?A-Z^-~]+(\\.[-!#-'*+/-9=?A-Z^-~]+)*|\\[[\\t -Z^-~]*])\")\n",
        "\n",
        "def isValid(email):\n",
        "    if re.fullmatch(regex, email):\n",
        "        print(\"Valid email\")\n",
        "        return True\n",
        "    print(\"Invalid email\")\n",
        "    return False"
      ],
      "metadata": {
        "id": "GJvdLnmAUp2X"
      },
      "execution_count": 18,
      "outputs": []
    },
    {
      "cell_type": "markdown",
      "source": [
        "### Step 1: Getting Sender Info from Config File"
      ],
      "metadata": {
        "id": "xmyJMubnRtau"
      }
    },
    {
      "cell_type": "code",
      "source": [
        "config = configparser.ConfigParser()\n",
        "config.read(\"settings.env\")"
      ],
      "metadata": {
        "id": "Saw30295ROry"
      },
      "execution_count": null,
      "outputs": []
    },
    {
      "cell_type": "code",
      "source": [
        "sender_email = config[\"SenderAccountInfo\"][\"EMAIL\"]\n",
        "sender_name = config[\"SenderAccountInfo\"][\"NAME\"]\n",
        "cc = config[\"SenderAccountInfo\"][\"CC\"]\n",
        "app_password = config[\"SenderAccountInfo\"][\"APP_PASSWORD\"]"
      ],
      "metadata": {
        "id": "rVTVWiXKRfL7"
      },
      "execution_count": null,
      "outputs": []
    },
    {
      "cell_type": "markdown",
      "source": [
        "### Step 2: Get email Subject"
      ],
      "metadata": {
        "id": "uQMlrO9WR36l"
      }
    },
    {
      "cell_type": "code",
      "source": [
        "def get_mail_subject():\n",
        "    return \"Testing Automated Emails\""
      ],
      "metadata": {
        "id": "DrQpXET2Rl_i"
      },
      "execution_count": 2,
      "outputs": []
    },
    {
      "cell_type": "markdown",
      "source": [
        "### Step 3: Get email Body"
      ],
      "metadata": {
        "id": "BZJigew8R9g6"
      }
    },
    {
      "cell_type": "code",
      "source": [
        "def get_mail_body(receiver_first_name: str, sender_name: str):\n",
        "    msg_body = f\"Dear {receiver_first_name}, \\nThis email was automatically sent using Python. \\n\" \\\n",
        "               f\"Hope you like it. \\n Cheers, \\n {sender_name}  \"\n",
        "    return msg_body"
      ],
      "metadata": {
        "id": "KUkBHb8FR8Pg"
      },
      "execution_count": 3,
      "outputs": []
    },
    {
      "cell_type": "markdown",
      "source": [
        "### Step 4: Get email Attachment"
      ],
      "metadata": {
        "id": "1YjhxBrvSCkZ"
      }
    },
    {
      "cell_type": "code",
      "source": [
        "def get_email_attachment(file_name: str = \"test_image.png\"):\n",
        "    file_path = \"../assets/\"\n",
        "    attachment_file = file_path + file_name\n",
        "    return attachment_file"
      ],
      "metadata": {
        "id": "36hBzchoSBoA"
      },
      "execution_count": 4,
      "outputs": []
    },
    {
      "cell_type": "markdown",
      "source": [
        "### Step 5: Get Receiver Info"
      ],
      "metadata": {
        "id": "ccifU7H_Sqnt"
      }
    },
    {
      "cell_type": "code",
      "source": [
        "receiver_name = input(\"Enter recipient full name (First name Last Name): \")\n",
        "\n",
        "try:\n",
        "    receiver_first_name, receiver_last_name = receiver_name.split(\" \")\n",
        "except ValueError:\n",
        "    receiver_first_name, receiver_last_name = receiver_name, \"\"\n",
        "\n",
        "while True:\n",
        "    receiver_email = input(\"Enter recipient Email: \")\n",
        "    if isValid(receiver_email):\n",
        "        break\n",
        "\n",
        "print(f\"\\n Recipient Infos: \\n First Name: {receiver_first_name} \\n Last Name: {receiver_last_name} \\n Email: {receiver_email}\")"
      ],
      "metadata": {
        "colab": {
          "base_uri": "https://localhost:8080/"
        },
        "id": "U-vCKGHNStqi",
        "outputId": "64d872e9-74f0-4413-c93d-444480fc1fcc"
      },
      "execution_count": 22,
      "outputs": [
        {
          "output_type": "stream",
          "name": "stdout",
          "text": [
            "Enter recipient full name (First name Last Name): sfdghgj\n",
            "Enter recipient Email: sfgdghj@dsdgf\n",
            "Valid email\n",
            "\n",
            " Recipient Infos: \n",
            " First Name: sfdghgj \n",
            " Last Name:  \n",
            " Email: sfgdghj@dsdgf\n"
          ]
        }
      ]
    },
    {
      "cell_type": "markdown",
      "source": [
        "### Step 6: Prepare Email"
      ],
      "metadata": {
        "id": "eNUUj-JrSTEd"
      }
    },
    {
      "cell_type": "code",
      "source": [
        "email = MIMEMultipart()\n",
        "email[\"From\"] = sender_email\n",
        "email[\"To\"] = receiver_email\n",
        "email[\"Subject\"] = get_mail_subject()\n",
        "email[\"Cc\"] = cc\n",
        "email_body = get_mail_body(receiver_first_name, sender_name)"
      ],
      "metadata": {
        "colab": {
          "base_uri": "https://localhost:8080/",
          "height": 236
        },
        "id": "K4U8YhZzSMar",
        "outputId": "434f029a-9977-43b5-e6c0-81bbc0b96b1f"
      },
      "execution_count": 23,
      "outputs": [
        {
          "output_type": "error",
          "ename": "NameError",
          "evalue": "ignored",
          "traceback": [
            "\u001b[0;31m---------------------------------------------------------------------------\u001b[0m",
            "\u001b[0;31mNameError\u001b[0m                                 Traceback (most recent call last)",
            "\u001b[0;32m<ipython-input-23-71d834b3dc62>\u001b[0m in \u001b[0;36m<module>\u001b[0;34m\u001b[0m\n\u001b[1;32m      1\u001b[0m \u001b[0memail\u001b[0m \u001b[0;34m=\u001b[0m \u001b[0mMIMEMultipart\u001b[0m\u001b[0;34m(\u001b[0m\u001b[0;34m)\u001b[0m\u001b[0;34m\u001b[0m\u001b[0;34m\u001b[0m\u001b[0m\n\u001b[0;32m----> 2\u001b[0;31m \u001b[0memail\u001b[0m\u001b[0;34m[\u001b[0m\u001b[0;34m\"From\"\u001b[0m\u001b[0;34m]\u001b[0m \u001b[0;34m=\u001b[0m \u001b[0msender_email\u001b[0m\u001b[0;34m\u001b[0m\u001b[0;34m\u001b[0m\u001b[0m\n\u001b[0m\u001b[1;32m      3\u001b[0m \u001b[0memail\u001b[0m\u001b[0;34m[\u001b[0m\u001b[0;34m\"To\"\u001b[0m\u001b[0;34m]\u001b[0m \u001b[0;34m=\u001b[0m \u001b[0mreceiver_email\u001b[0m\u001b[0;34m\u001b[0m\u001b[0;34m\u001b[0m\u001b[0m\n\u001b[1;32m      4\u001b[0m \u001b[0memail\u001b[0m\u001b[0;34m[\u001b[0m\u001b[0;34m\"Subject\"\u001b[0m\u001b[0;34m]\u001b[0m \u001b[0;34m=\u001b[0m \u001b[0mget_mail_subject\u001b[0m\u001b[0;34m(\u001b[0m\u001b[0;34m)\u001b[0m\u001b[0;34m\u001b[0m\u001b[0;34m\u001b[0m\u001b[0m\n\u001b[1;32m      5\u001b[0m \u001b[0memail\u001b[0m\u001b[0;34m[\u001b[0m\u001b[0;34m\"Cc\"\u001b[0m\u001b[0;34m]\u001b[0m \u001b[0;34m=\u001b[0m \u001b[0mcc\u001b[0m\u001b[0;34m\u001b[0m\u001b[0;34m\u001b[0m\u001b[0m\n",
            "\u001b[0;31mNameError\u001b[0m: name 'sender_email' is not defined"
          ]
        }
      ]
    },
    {
      "cell_type": "code",
      "source": [
        "# Add body and attachment to email\n",
        "email.attach(MIMEText(email_body, \"html\"))"
      ],
      "metadata": {
        "id": "w9nzHGwnWr5i"
      },
      "execution_count": null,
      "outputs": []
    },
    {
      "cell_type": "code",
      "source": [
        "# Add email attachment\n",
        "attachment_file_name = \"test_image.png\"\n",
        "attachment = open(get_email_attachment(), \"rb\")"
      ],
      "metadata": {
        "id": "4UEtfpqdWxEJ"
      },
      "execution_count": null,
      "outputs": []
    },
    {
      "cell_type": "code",
      "source": [
        "# instance of MIMEBase and named as p\n",
        "p = MIMEBase('application', 'octet-stream')\n",
        "\n",
        " # To change the payload into encoded form\n",
        "p.set_payload(attachment.read())\n",
        "\n",
        "# encode into base64\n",
        "encoders.encode_base64(p)\n",
        "\n",
        "p.add_header('Content-Disposition', \"attachment; filename= %s\" % attachment_file_name)\n",
        "\n",
        "# attach the instance 'p' to instance 'msg'\n",
        "email.attach(p)\n",
        "\n",
        "email = email.as_string()"
      ],
      "metadata": {
        "id": "LJJ008dXW56V"
      },
      "execution_count": null,
      "outputs": []
    },
    {
      "cell_type": "markdown",
      "source": [
        "### Step 7: Sending the Email"
      ],
      "metadata": {
        "id": "QRuI08T3XP0t"
      }
    },
    {
      "cell_type": "code",
      "source": [
        "# Create SMTP session for sending the mail\n",
        "# use gmail with port\n",
        "session = smtplib.SMTP('smtp.gmail.com', 587)\n",
        "# enable security\n",
        "session.starttls()\n",
        "# login with mail_id and password\n",
        "\n",
        "session.login(CONFIG_VALS[\"sender_email\"], CONFIG_VALS[\"app_password\"])\n",
        "text = prepare_email(first_name, receiver_email, CONFIG_VALS[\"sender_name\"], CONFIG_VALS[\"sender_email\"],\n",
        "                        CONFIG_VALS[\"cc\"])\n",
        "session.sendmail(CONFIG_VALS[\"sender_email\"], receiver_email, text)\n",
        "session.quit()\n",
        "print(f\"Mail Sent to {receiver_name} at {receiver_email} at {datetime.now()}\")\n"
      ],
      "metadata": {
        "id": "uo-K2fcXXOIJ"
      },
      "execution_count": null,
      "outputs": []
    }
  ]
}